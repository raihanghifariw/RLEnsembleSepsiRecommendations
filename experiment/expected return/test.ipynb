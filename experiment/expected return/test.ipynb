{
 "cells": [
  {
   "cell_type": "code",
   "execution_count": 1,
   "metadata": {},
   "outputs": [],
   "source": [
    "import numpy as np\n",
    "import matplotlib.pyplot as plt\n"
   ]
  },
  {
   "cell_type": "code",
   "execution_count": 2,
   "metadata": {},
   "outputs": [
    {
     "ename": "FileNotFoundError",
     "evalue": "[Errno 2] No such file or directory: 'ICU/DQN-45.npy'",
     "output_type": "error",
     "traceback": [
      "\u001b[1;31m---------------------------------------------------------------------------\u001b[0m",
      "\u001b[1;31mFileNotFoundError\u001b[0m                         Traceback (most recent call last)",
      "Cell \u001b[1;32mIn[2], line 3\u001b[0m\n\u001b[0;32m      1\u001b[0m \u001b[38;5;28;01mif\u001b[39;00m \u001b[38;5;18m__name__\u001b[39m \u001b[38;5;241m==\u001b[39m \u001b[38;5;124m'\u001b[39m\u001b[38;5;124m__main__\u001b[39m\u001b[38;5;124m'\u001b[39m:\n\u001b[0;32m      2\u001b[0m     \u001b[38;5;66;03m# Memuat data dari file .npy\u001b[39;00m\n\u001b[1;32m----> 3\u001b[0m     DQN_45 \u001b[38;5;241m=\u001b[39m \u001b[43mnp\u001b[49m\u001b[38;5;241;43m.\u001b[39;49m\u001b[43mload\u001b[49m\u001b[43m(\u001b[49m\u001b[38;5;124;43m'\u001b[39;49m\u001b[38;5;124;43mICU/DQN-45.npy\u001b[39;49m\u001b[38;5;124;43m'\u001b[39;49m\u001b[43m,\u001b[49m\u001b[43m \u001b[49m\u001b[43mallow_pickle\u001b[49m\u001b[38;5;241;43m=\u001b[39;49m\u001b[38;5;28;43;01mTrue\u001b[39;49;00m\u001b[43m)\u001b[49m\n\u001b[0;32m      4\u001b[0m     DQN_37 \u001b[38;5;241m=\u001b[39m np\u001b[38;5;241m.\u001b[39mload(\u001b[38;5;124m'\u001b[39m\u001b[38;5;124mICU/DQN-37.npy\u001b[39m\u001b[38;5;124m'\u001b[39m, allow_pickle\u001b[38;5;241m=\u001b[39m\u001b[38;5;28;01mTrue\u001b[39;00m)\n\u001b[0;32m      5\u001b[0m     DDQN_45 \u001b[38;5;241m=\u001b[39m np\u001b[38;5;241m.\u001b[39mload(\u001b[38;5;124m'\u001b[39m\u001b[38;5;124mICU/DDQN-45.npy\u001b[39m\u001b[38;5;124m'\u001b[39m, allow_pickle\u001b[38;5;241m=\u001b[39m\u001b[38;5;28;01mTrue\u001b[39;00m)\n",
      "File \u001b[1;32md:\\Trek_AI\\optimal_model\\ID3QNE-algorithm\\.venv\\lib\\site-packages\\numpy\\lib\\_npyio_impl.py:459\u001b[0m, in \u001b[0;36mload\u001b[1;34m(file, mmap_mode, allow_pickle, fix_imports, encoding, max_header_size)\u001b[0m\n\u001b[0;32m    457\u001b[0m     own_fid \u001b[38;5;241m=\u001b[39m \u001b[38;5;28;01mFalse\u001b[39;00m\n\u001b[0;32m    458\u001b[0m \u001b[38;5;28;01melse\u001b[39;00m:\n\u001b[1;32m--> 459\u001b[0m     fid \u001b[38;5;241m=\u001b[39m stack\u001b[38;5;241m.\u001b[39menter_context(\u001b[38;5;28;43mopen\u001b[39;49m\u001b[43m(\u001b[49m\u001b[43mos\u001b[49m\u001b[38;5;241;43m.\u001b[39;49m\u001b[43mfspath\u001b[49m\u001b[43m(\u001b[49m\u001b[43mfile\u001b[49m\u001b[43m)\u001b[49m\u001b[43m,\u001b[49m\u001b[43m \u001b[49m\u001b[38;5;124;43m\"\u001b[39;49m\u001b[38;5;124;43mrb\u001b[39;49m\u001b[38;5;124;43m\"\u001b[39;49m\u001b[43m)\u001b[49m)\n\u001b[0;32m    460\u001b[0m     own_fid \u001b[38;5;241m=\u001b[39m \u001b[38;5;28;01mTrue\u001b[39;00m\n\u001b[0;32m    462\u001b[0m \u001b[38;5;66;03m# Code to distinguish from NumPy binary files and pickles.\u001b[39;00m\n",
      "\u001b[1;31mFileNotFoundError\u001b[0m: [Errno 2] No such file or directory: 'ICU/DQN-45.npy'"
     ]
    }
   ],
   "source": [
    "\n",
    "if __name__ == '__main__':\n",
    "    # Memuat data dari file .npy\n",
    "    DQN_45 = np.load('ICU/DQN-45.npy', allow_pickle=True)\n",
    "    DQN_37 = np.load('ICU/DQN-37.npy', allow_pickle=True)\n",
    "    DDQN_45 = np.load('ICU/DDQN-45.npy', allow_pickle=True)\n",
    "    DDQN_37 = np.load('ICU/DDQN-37.npy', allow_pickle=True)\n",
    "    D3QN_45 = np.load('ICU/D3QN-45.npy', allow_pickle=True)\n",
    "    D3QN_37 = np.load('ICU/D3QN-37.npy', allow_pickle=True)\n",
    "    ID3QN = np.load('ICU/ID3QN.npy', allow_pickle=True)\n",
    "    ID3QNE = np.load('ICU/ID3QNE.npy', allow_pickle=True)\n",
    "    \n",
    "    # Membuat list untuk sumbu X (jumlah epoch)\n",
    "    x_length_list = list(range(len(DQN_45)))\n",
    "    \n",
    "    # Menyiapkan grafik\n",
    "    ax = plt.figure()\n",
    "    \n",
    "    # Menggambar plot untuk masing-masing model\n",
    "    plt.plot(x_length_list, DQN_45, '-.', label='DQN_45', markersize=3)\n",
    "    plt.plot(x_length_list, DQN_37, 'v', label='DQN_37', markersize=1)\n",
    "    plt.plot(x_length_list, DDQN_45, '.', label='DDQN_45', markersize=3)\n",
    "    plt.plot(x_length_list, DDQN_37, '*', label='DDQN_37', markersize=3)\n",
    "    plt.plot(x_length_list, D3QN_45, '<', label='D3QN_45', markersize=3)\n",
    "    plt.plot(x_length_list, D3QN_37, '+', label='D3QN_37', markersize=3)\n",
    "    plt.plot(x_length_list, ID3QN, '--', color='y', label='ID3QN')\n",
    "    plt.plot(x_length_list, ID3QNE, '-', color='r', label='ID3QNE')\n",
    "    \n",
    "    # Mengatur font untuk legenda dan label\n",
    "    font1 = {'family': 'Arial', 'weight': 'normal'}\n",
    "    plt.legend(prop=font1)\n",
    "    \n",
    "    # Mengatur ticks untuk sumbu X dan Y\n",
    "    plt.xticks([0, 10, 20, 30, 40, 50, 60, 70, 80, 90, 100], fontname=\"Arial\")\n",
    "    plt.yticks([0, 2, 4, 6, 8, 10, 12, 14, 16, 18, 20, 22, 24], fontname=\"Arial\")\n",
    "    \n",
    "    # Menambahkan label pada sumbu X dan Y\n",
    "    plt.xlabel(\"Epochs\", font1)\n",
    "    plt.ylabel(\"Expected return\", font1)\n",
    "    \n",
    "    # Menampilkan grafik\n",
    "    plt.show()\n"
   ]
  },
  {
   "cell_type": "code",
   "execution_count": null,
   "metadata": {},
   "outputs": [],
   "source": []
  }
 ],
 "metadata": {
  "kernelspec": {
   "display_name": ".venv",
   "language": "python",
   "name": "python3"
  },
  "language_info": {
   "codemirror_mode": {
    "name": "ipython",
    "version": 3
   },
   "file_extension": ".py",
   "mimetype": "text/x-python",
   "name": "python",
   "nbconvert_exporter": "python",
   "pygments_lexer": "ipython3",
   "version": "3.10.0"
  }
 },
 "nbformat": 4,
 "nbformat_minor": 2
}
